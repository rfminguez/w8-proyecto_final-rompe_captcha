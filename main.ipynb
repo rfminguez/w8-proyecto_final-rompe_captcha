{
 "cells": [
  {
   "cell_type": "markdown",
   "metadata": {},
   "source": [
    "Para simplificar el problema:\n",
    "- voy a limitarme a captchas de 4 caracteres alfanuméricos.\n",
    "- letras mayúsculas y números entre 1 y 9 (el \"0\" es imposible de distinguir el \"0\" de una \"o\" mayúscula incluso para el ojo humano).\n",
    "- estos captchas los generaré usando la de python\n",
    "    https://pypi.org/project/captcha/\n",
    "- TO-DO incluir letras mayúsculas y minúsculas (algunas, como la \"v\", \"w\", \"x\", \"y\" u \"o\" son muy difíciles de distinguir incluso para el ojo humano). También es muy difícil distinguir \"1\" de \"l\" minúscula.\n",
    "    \n",
    "- las imágenes se guardan en el directorio `input` como gráficos .PNG, el nombre del archivo es el texto que está oculto en la imagen.\n",
    "- a partir de las imágenes se separan las letras que se utilizarán como entrenamiento para una red neuronal."
   ]
  },
  {
   "cell_type": "markdown",
   "metadata": {},
   "source": [
    "# Parte 1\n",
    "Generar imágenes usando:\n",
    "    https://pypi.org/project/captcha/\n",
    "    \n",
    "Imágenes de 4 caracteres."
   ]
  },
  {
   "cell_type": "markdown",
   "metadata": {},
   "source": [
    "# Parte 2\n",
    "Entrenar una red neuronal.\n",
    "\n",
    "## Parte 2.1\n",
    "Separar el captcha en 4 trozos correspondientes a los 4 caracteres.\n",
    "\n",
    "Cada uno de esos caracteres (imágenes) para todas las imágenes seleccionadas serán con lo que se entrene la red neuronal. El objetivo es conseguir diferentes variaciones de cada letra o número.\n",
    "\n",
    "Esto no es tan fácil como separar la imagen en trozos del mismo tamaño porque los caracteres en un captcha las letras tienen diferentes tamaños, aparecen giradas, y desplazadas en posiciones aleatorias de modo que en muchos casos se solapan.\n",
    "\n",
    "Esto lo haré usando la librería OpenCV.\n",
    "## Parte 2.2\n",
    "Entrenar una red neuronal.\n"
   ]
  }
 ],
 "metadata": {
  "kernelspec": {
   "display_name": "Python 3",
   "language": "python",
   "name": "python3"
  },
  "language_info": {
   "codemirror_mode": {
    "name": "ipython",
    "version": 3
   },
   "file_extension": ".py",
   "mimetype": "text/x-python",
   "name": "python",
   "nbconvert_exporter": "python",
   "pygments_lexer": "ipython3",
   "version": "3.8.5"
  }
 },
 "nbformat": 4,
 "nbformat_minor": 4
}
