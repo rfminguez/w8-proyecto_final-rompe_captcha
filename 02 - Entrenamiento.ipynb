{
 "cells": [
  {
   "cell_type": "code",
   "execution_count": 1,
   "metadata": {},
   "outputs": [],
   "source": [
    "from src.img_toolbox import get_letters_dataset\n",
    "from matplotlib import pyplot as plt\n",
    "from sklearn.model_selection import train_test_split\n",
    "from sklearn.preprocessing import LabelBinarizer\n",
    "import numpy as np\n",
    "import pickle"
   ]
  },
  {
   "cell_type": "markdown",
   "metadata": {},
   "source": [
    "# Creo el dataset con imágenes y sus etiquetas"
   ]
  },
  {
   "cell_type": "code",
   "execution_count": 2,
   "metadata": {},
   "outputs": [],
   "source": [
    "letter_images_folder = \"input/letter_dataset/training\"\n",
    "\n",
    "X, y = get_letters_dataset(letter_images_folder)"
   ]
  },
  {
   "cell_type": "code",
   "execution_count": 3,
   "metadata": {},
   "outputs": [
    {
     "name": "stdout",
     "output_type": "stream",
     "text": [
      "Numero total de features:  39908\n",
      "Numero total de labels 39908\n"
     ]
    }
   ],
   "source": [
    "print(\"Numero total de features: \", len(X))\n",
    "print(\"Numero total de labels\", len(y))"
   ]
  },
  {
   "cell_type": "code",
   "execution_count": 4,
   "metadata": {},
   "outputs": [
    {
     "name": "stdout",
     "output_type": "stream",
     "text": [
      "Esta imagen:\n"
     ]
    },
    {
     "data": {
      "image/png": "[encoded data removed]",
      "text/plain": [
       "<Figure size 432x288 with 1 Axes>"
      ]
     },
     "metadata": {
      "needs_background": "light"
     },
     "output_type": "display_data"
    },
    {
     "name": "stdout",
     "output_type": "stream",
     "text": [
      "Corresponde a la letra o número:  9\n"
     ]
    }
   ],
   "source": [
    "# Por ejemplo:\n",
    "print(\"Esta imagen:\")\n",
    "plt.imshow(X[220], cmap='Greys')\n",
    "plt.show()\n",
    "\n",
    "print(\"Corresponde a la letra o número: \", y[220])"
   ]
  },
  {
   "cell_type": "code",
   "execution_count": 5,
   "metadata": {},
   "outputs": [],
   "source": [
    "# scale the raw pixel intensities to the range [0, 1] (this improves training)\n",
    "X = np.array(X, dtype=\"float\") / 255.0\n",
    "y = np.array(y)\n"
   ]
  },
  {
   "cell_type": "markdown",
   "metadata": {},
   "source": [
    "## Separar datos de Entrenamiento de datos de Test"
   ]
  },
  {
   "cell_type": "code",
   "execution_count": 6,
   "metadata": {},
   "outputs": [],
   "source": [
    "X_train, X_test, y_train, y_test = train_test_split(X, y, test_size=0.2)"
   ]
  },
  {
   "cell_type": "code",
   "execution_count": 7,
   "metadata": {},
   "outputs": [],
   "source": [
    "## Hago one-hot encoding con las etiquetas (cada letra/número estará separado en una columna)\n",
    "lb = LabelBinarizer().fit(y_train)\n",
    "y_train = lb.transform(y_train)\n",
    "y_test = lb.transform(y_test)\n"
   ]
  },
  {
   "cell_type": "code",
   "execution_count": 8,
   "metadata": {},
   "outputs": [],
   "source": [
    "labels_filename = \"model_labels.dat\"\n",
    "\n",
    "# Guardo los mapeos de labels para los one-hot encodings.\n",
    "# Usaré este mapa para entender la predicción que haré (justo al final del notebook `03 - Usar el modelo y probar leer captchas`)\n",
    "with open(labels_filename, \"wb\") as f:\n",
    "    pickle.dump(lb, f)"
   ]
  },
  {
   "cell_type": "markdown",
   "metadata": {},
   "source": [
    "# Construir la Red Neuronal"
   ]
  },
  {
   "cell_type": "code",
   "execution_count": 9,
   "metadata": {},
   "outputs": [],
   "source": [
    "from keras.models import Sequential\n",
    "from keras.layers.convolutional import Conv2D, MaxPooling2D\n",
    "from keras.layers.core import Flatten, Dense\n",
    "from keras.callbacks import EarlyStopping\n"
   ]
  },
  {
   "cell_type": "code",
   "execution_count": 10,
   "metadata": {},
   "outputs": [],
   "source": [
    "# De todas las que he probado esta sigue siendo la mejor entrenándola con 10 epochs\n",
    "def model_topologia_1(num_of_possible_characters):\n",
    "    # Instancio el modelo\n",
    "    model = Sequential()\n",
    "\n",
    "    # Añado una Primera Capa convolucional con max pooling\n",
    "    model.add(Conv2D(20, (5, 5), padding=\"same\", input_shape=(20, 20, 1), activation=\"relu\"))\n",
    "    model.add(MaxPooling2D(pool_size=(2, 2), strides=(2, 2)))\n",
    "\n",
    "    # Añado una Segunda Capa convolucional con max pooling\n",
    "    model.add(Conv2D(50, (5, 5), padding=\"same\", activation=\"relu\"))\n",
    "    model.add(MaxPooling2D(pool_size=(2, 2), strides=(2, 2)))\n",
    "    \n",
    "    # Añado una capa oculta intermedia con 500 nodos\n",
    "    model.add(Flatten())\n",
    "    model.add(Dense(500, activation=\"relu\"))\n",
    "    \n",
    "    # Añado la última capa: la Capa de Salida con 36 nodos (uno por cada letra/número posible en nuestro set de datos)\n",
    "    model.add(Dense(num_of_possible_characters, activation=\"softmax\"))\n",
    "    \n",
    "    # Construyo el modelo TensorFlow\n",
    "    model.compile(loss=\"categorical_crossentropy\", optimizer=\"adam\", metrics=[\"accuracy\"])\n",
    "    \n",
    "    return model"
   ]
  },
  {
   "cell_type": "code",
   "execution_count": 11,
   "metadata": {},
   "outputs": [],
   "source": [
    "def model_topologia_2(num_of_possible_characters):\n",
    "    model = Sequential()\n",
    "\n",
    "    model.add(Conv2D(32, (5, 5), padding=\"same\", input_shape=(20, 20, 1), activation=\"relu\"))\n",
    "    model.add(MaxPooling2D(pool_size=(2, 2), strides=(2, 2)))\n",
    "\n",
    "    model.add(Conv2D(64, (5, 5), padding=\"same\", activation=\"relu\"))\n",
    "    model.add(MaxPooling2D(pool_size=(2, 2), strides=(2, 2)))\n",
    "    \n",
    "    model.add(Conv2D(64, (5, 5), padding=\"same\", activation=\"relu\"))\n",
    "    model.add(MaxPooling2D(pool_size=(2, 2), strides=(2, 2)))\n",
    "\n",
    "    model.add(Flatten())\n",
    "    model.add(Dense(1024, activation=\"relu\"))\n",
    "    \n",
    "    model.add(Dense(num_of_possible_characters, activation=\"softmax\"))\n",
    "    \n",
    "    model.compile(loss=\"categorical_crossentropy\", optimizer=\"adam\", metrics=[\"accuracy\"])\n",
    "    \n",
    "    return model"
   ]
  },
  {
   "cell_type": "code",
   "execution_count": 12,
   "metadata": {},
   "outputs": [],
   "source": [
    "# Esta no va mal del todo\n",
    "def model_topologia_3(num_of_possible_characters):\n",
    "    # Instancio el modelo\n",
    "    model = Sequential()\n",
    "\n",
    "    # Añado una Primera Capa convolucional con max pooling\n",
    "    model.add(Conv2D(32, (5, 5), padding=\"same\", input_shape=(20, 20, 1), activation=\"relu\"))\n",
    "    model.add(MaxPooling2D(pool_size=(2, 2), strides=(2, 2)))\n",
    "\n",
    "    # Añado una Segunda Capa convolucional con max pooling\n",
    "    model.add(Conv2D(64, (5, 5), padding=\"same\", activation=\"relu\"))\n",
    "    model.add(MaxPooling2D(pool_size=(2, 2), strides=(2, 2)))\n",
    "    \n",
    "    # Añado una capa oculta intermedia con 500 nodos\n",
    "    model.add(Flatten())\n",
    "    model.add(Dense(1024, activation=\"relu\"))\n",
    "    \n",
    "    # Añado la última capa: la Capa de Salida con 36 nodos (uno por cada letra/número posible en nuestro set de datos)\n",
    "    model.add(Dense(num_of_possible_characters, activation=\"softmax\"))\n",
    "    \n",
    "    # Construyo el modelo TensorFlow\n",
    "    model.compile(loss=\"categorical_crossentropy\", optimizer=\"adam\", metrics=[\"accuracy\"])\n",
    "    \n",
    "    return model"
   ]
  },
  {
   "cell_type": "code",
   "execution_count": 13,
   "metadata": {},
   "outputs": [],
   "source": [
    "# Esta tampoco se comporta mal\n",
    "def model_topologia_4(num_of_possible_characters):\n",
    "    # Instancio el modelo\n",
    "    model = Sequential()\n",
    "\n",
    "    # Añado una Primera Capa convolucional con max pooling\n",
    "    model.add(Conv2D(32, (5, 5), padding=\"same\", input_shape=(20, 20, 1), activation=\"relu\"))\n",
    "    model.add(MaxPooling2D(pool_size=(2, 2), strides=(2, 2)))\n",
    "\n",
    "    # Añado una Segunda Capa convolucional con max pooling\n",
    "    model.add(Conv2D(64, (5, 5), padding=\"same\", activation=\"relu\"))\n",
    "    model.add(MaxPooling2D(pool_size=(2, 2), strides=(2, 2)))\n",
    "    \n",
    "    # Añado una capa oculta intermedia con 1024 nodos\n",
    "    model.add(Flatten())\n",
    "    model.add(Dense(1024, activation=\"relu\"))\n",
    "    \n",
    "    # Añado una capa oculta intermedia con 1024 nodos\n",
    "    model.add(Flatten())\n",
    "    model.add(Dense(1024, activation=\"relu\"))\n",
    "    \n",
    "    # Añado la última capa: la Capa de Salida con 36 nodos (uno por cada letra/número posible en nuestro set de datos)\n",
    "    model.add(Dense(num_of_possible_characters, activation=\"softmax\"))\n",
    "    \n",
    "    # Construyo el modelo TensorFlow\n",
    "    model.compile(loss=\"categorical_crossentropy\", optimizer=\"adam\", metrics=[\"accuracy\"])\n",
    "    \n",
    "    return model"
   ]
  },
  {
   "cell_type": "code",
   "execution_count": 14,
   "metadata": {},
   "outputs": [],
   "source": [
    "def model_topologia_5(num_of_possible_characters):\n",
    "    # Instancio el modelo\n",
    "    model = Sequential()\n",
    "\n",
    "    # Añado una Primera Capa convolucional con max pooling\n",
    "    model.add(Conv2D(20, (5, 5), padding=\"same\", input_shape=(20, 20, 1), activation=\"relu\"))\n",
    "    model.add(MaxPooling2D(pool_size=(2, 2), strides=(2, 2)))\n",
    "\n",
    "    # Añado una capa oculta intermedia con 500 nodos\n",
    "    model.add(Flatten())\n",
    "    model.add(Dense(500, activation=\"relu\"))\n",
    "    \n",
    "    # Añado la última capa: la Capa de Salida con 36 nodos (uno por cada letra/número posible en nuestro set de datos)\n",
    "    model.add(Dense(num_of_possible_characters, activation=\"softmax\"))\n",
    "    \n",
    "    # Construyo el modelo TensorFlow\n",
    "    model.compile(loss=\"categorical_crossentropy\", optimizer=\"adam\", metrics=[\"accuracy\"])\n",
    "    \n",
    "    return model"
   ]
  },
  {
   "cell_type": "code",
   "execution_count": 15,
   "metadata": {},
   "outputs": [
    {
     "name": "stdout",
     "output_type": "stream",
     "text": [
      "Model: \"sequential\"\n",
      "_________________________________________________________________\n",
      "Layer (type)                 Output Shape              Param #   \n",
      "=================================================================\n",
      "conv2d (Conv2D)              (None, 20, 20, 20)        520       \n",
      "_________________________________________________________________\n",
      "max_pooling2d (MaxPooling2D) (None, 10, 10, 20)        0         \n",
      "_________________________________________________________________\n",
      "flatten (Flatten)            (None, 2000)              0         \n",
      "_________________________________________________________________\n",
      "dense (Dense)                (None, 500)               1000500   \n",
      "_________________________________________________________________\n",
      "dense_1 (Dense)              (None, 36)                18036     \n",
      "=================================================================\n",
      "Total params: 1,019,056\n",
      "Trainable params: 1,019,056\n",
      "Non-trainable params: 0\n",
      "_________________________________________________________________\n",
      "None\n"
     ]
    }
   ],
   "source": [
    "num_of_possible_characters = 36\n",
    "model = model_topologia_1(num_of_possible_characters)\n",
    "print(model.summary())\n"
   ]
  },
  {
   "cell_type": "code",
   "execution_count": 16,
   "metadata": {},
   "outputs": [],
   "source": [
    "# Creo una función Early Stopping\n",
    "monitor = EarlyStopping(monitor = \"val_loss\", \n",
    "                        min_delta = 1e-3, \n",
    "                        patience = 5, \n",
    "                        verbose = 2,\n",
    "                        mode = \"auto\",\n",
    "                        restore_best_weights = True)"
   ]
  },
  {
   "cell_type": "code",
   "execution_count": 17,
   "metadata": {},
   "outputs": [
    {
     "name": "stdout",
     "output_type": "stream",
     "text": [
      "Epoch 1/100\n",
      "250/250 [==============================] - 18s 71ms/step - loss: 2.0303 - accuracy: 0.4647 - val_loss: 1.5849 - val_accuracy: 0.5710\n",
      "Epoch 2/100\n",
      "250/250 [==============================] - 18s 70ms/step - loss: 1.3686 - accuracy: 0.6284 - val_loss: 1.3475 - val_accuracy: 0.6320\n",
      "Epoch 3/100\n",
      "250/250 [==============================] - 18s 73ms/step - loss: 1.1461 - accuracy: 0.6816 - val_loss: 1.1924 - val_accuracy: 0.6750\n",
      "Epoch 4/100\n",
      "250/250 [==============================] - 17s 70ms/step - loss: 1.0113 - accuracy: 0.7176 - val_loss: 1.1311 - val_accuracy: 0.6885\n",
      "Epoch 5/100\n",
      "250/250 [==============================] - 17s 67ms/step - loss: 0.9206 - accuracy: 0.7426 - val_loss: 1.1167 - val_accuracy: 0.6917\n",
      "Epoch 6/100\n",
      "250/250 [==============================] - 18s 71ms/step - loss: 0.8404 - accuracy: 0.7635 - val_loss: 1.1037 - val_accuracy: 0.7012\n",
      "Epoch 7/100\n",
      "250/250 [==============================] - 17s 68ms/step - loss: 0.7711 - accuracy: 0.7824 - val_loss: 1.0796 - val_accuracy: 0.7071\n",
      "Epoch 8/100\n",
      "250/250 [==============================] - 17s 68ms/step - loss: 0.7127 - accuracy: 0.7979 - val_loss: 1.1069 - val_accuracy: 0.7045\n",
      "Epoch 9/100\n",
      "250/250 [==============================] - 17s 67ms/step - loss: 0.6543 - accuracy: 0.8133 - val_loss: 1.1054 - val_accuracy: 0.7017\n",
      "Epoch 10/100\n",
      "250/250 [==============================] - 17s 67ms/step - loss: 0.5980 - accuracy: 0.8268 - val_loss: 1.1223 - val_accuracy: 0.7090\n",
      "Epoch 11/100\n",
      "250/250 [==============================] - 17s 68ms/step - loss: 0.5469 - accuracy: 0.8425 - val_loss: 1.1173 - val_accuracy: 0.7119\n",
      "Epoch 12/100\n",
      "249/250 [============================>.] - ETA: 0s - loss: 0.4951 - accuracy: 0.8552Restoring model weights from the end of the best epoch.\n",
      "250/250 [==============================] - 17s 68ms/step - loss: 0.4953 - accuracy: 0.8551 - val_loss: 1.1399 - val_accuracy: 0.7151\n",
      "Epoch 00012: early stopping\n"
     ]
    }
   ],
   "source": [
    "# Entreno la Red Neuronal. \n",
    "# - epochs: un número exagerado (confio en el EarlyStopping). \n",
    "# - batch_size: 128\n",
    "history = model.fit(X_train, \n",
    "                    y_train, \n",
    "                    validation_data=(X_test, y_test), \n",
    "                    batch_size=128, \n",
    "                    epochs=100, \n",
    "                    verbose=1, \n",
    "                    callbacks=[monitor])"
   ]
  },
  {
   "cell_type": "code",
   "execution_count": 18,
   "metadata": {},
   "outputs": [
    {
     "data": {
      "image/png": "[encoded data removed]",
      "text/plain": [
       "<Figure size 1440x360 with 2 Axes>"
      ]
     },
     "metadata": {
      "needs_background": "light"
     },
     "output_type": "display_data"
    }
   ],
   "source": [
    "def plot_training_history(history, height, width):\n",
    "    fig, axes = plt.subplots(1, 2, figsize=(height, width))\n",
    "\n",
    "    axes[0].plot(history.history['accuracy'], label='Train accuracy')\n",
    "    axes[0].plot(history.history['val_accuracy'], label='Val accuracy')\n",
    "    axes[0].set_xlabel('Epochs')\n",
    "    axes[0].legend() \n",
    "\n",
    "    axes[1].plot(history.history['loss'], label='Training loss')\n",
    "    axes[1].plot(history.history['val_loss'], label='Validation loss')\n",
    "    axes[1].set_xlabel('Epochs')\n",
    "\n",
    "    axes[1].legend()\n",
    "\n",
    "plot_training_history(history, 20, 5)\n"
   ]
  },
  {
   "cell_type": "code",
   "execution_count": 19,
   "metadata": {},
   "outputs": [
    {
     "name": "stdout",
     "output_type": "stream",
     "text": [
      "Modelo guardado...\n"
     ]
    }
   ],
   "source": [
    "# Guardo el modelo\n",
    "\n",
    "model_file = \"captcha_model.hdf5\"\n",
    "\n",
    "# Save the trained model to disk\n",
    "model.save(model_file)\n",
    "\n",
    "print(\"Modelo guardado...\")\n"
   ]
  }
 ],
 "metadata": {
  "kernelspec": {
   "display_name": "Python 3",
   "language": "python",
   "name": "python3"
  },
  "language_info": {
   "codemirror_mode": {
    "name": "ipython",
    "version": 3
   },
   "file_extension": ".py",
   "mimetype": "text/x-python",
   "name": "python",
   "nbconvert_exporter": "python",
   "pygments_lexer": "ipython3",
   "version": "3.8.5"
  }
 },
 "nbformat": 4,
 "nbformat_minor": 4
}
