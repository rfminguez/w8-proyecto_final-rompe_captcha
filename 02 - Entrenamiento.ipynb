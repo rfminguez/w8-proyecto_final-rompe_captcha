{
 "cells": [
  {
   "cell_type": "code",
   "execution_count": 1,
   "metadata": {},
   "outputs": [],
   "source": [
    "from src.img_toolbox import get_letters_dataset\n",
    "from matplotlib import pyplot as plt\n",
    "from sklearn.model_selection import train_test_split\n",
    "from sklearn.preprocessing import LabelBinarizer\n",
    "import numpy as np\n",
    "import pickle"
   ]
  },
  {
   "cell_type": "markdown",
   "metadata": {},
   "source": [
    "# Creo el dataset con imágenes y sus etiquetas"
   ]
  },
  {
   "cell_type": "code",
   "execution_count": 2,
   "metadata": {},
   "outputs": [],
   "source": [
    "letter_images_folder = \"input/letter_dataset/training\"\n",
    "\n",
    "X, y = get_letters_dataset(letter_images_folder)"
   ]
  },
  {
   "cell_type": "code",
   "execution_count": 3,
   "metadata": {},
   "outputs": [
    {
     "name": "stdout",
     "output_type": "stream",
     "text": [
      "Numero total de features:  39855\n",
      "Numero total de labels 39855\n"
     ]
    }
   ],
   "source": [
    "print(\"Numero total de features: \", len(X))\n",
    "print(\"Numero total de labels\", len(y))"
   ]
  },
  {
   "cell_type": "code",
   "execution_count": 25,
   "metadata": {},
   "outputs": [
    {
     "name": "stdout",
     "output_type": "stream",
     "text": [
      "Esta imagen:\n"
     ]
    },
    {
     "data": {
      "image/png": "[encoded data removed]",
      "text/plain": [
       "<Figure size 432x288 with 1 Axes>"
      ]
     },
     "metadata": {
      "needs_background": "light"
     },
     "output_type": "display_data"
    },
    {
     "name": "stdout",
     "output_type": "stream",
     "text": [
      "Corresponde a la letra o número:  9\n"
     ]
    }
   ],
   "source": [
    "# Por ejemplo:\n",
    "print(\"Esta imagen:\")\n",
    "plt.imshow(X[220], cmap='Greys')\n",
    "plt.show()\n",
    "\n",
    "print(\"Corresponde a la letra o número: \", y[220])"
   ]
  },
  {
   "cell_type": "code",
   "execution_count": 5,
   "metadata": {},
   "outputs": [],
   "source": [
    "# scale the raw pixel intensities to the range [0, 1] (this improves training)\n",
    "X = np.array(X, dtype=\"float\") / 255.0\n",
    "y = np.array(y)\n"
   ]
  },
  {
   "cell_type": "markdown",
   "metadata": {},
   "source": [
    "## Separar datos de Entrenamiento de datos de Test"
   ]
  },
  {
   "cell_type": "code",
   "execution_count": 6,
   "metadata": {},
   "outputs": [],
   "source": [
    "X_train, X_test, y_train, y_test = train_test_split(X, y, test_size=0.2)"
   ]
  },
  {
   "cell_type": "code",
   "execution_count": 7,
   "metadata": {},
   "outputs": [],
   "source": [
    "## Hago one-hot encoding con las etiquetas (cada letra/número estará separado en una columna)\n",
    "lb = LabelBinarizer().fit(y_train)\n",
    "y_train = lb.transform(y_train)\n",
    "y_test = lb.transform(y_test)\n"
   ]
  },
  {
   "cell_type": "code",
   "execution_count": 8,
   "metadata": {},
   "outputs": [],
   "source": [
    "labels_filename = \"model_labels.dat\"\n",
    "\n",
    "# Guardo los mapeos de labels para los one-hot encodings.\n",
    "# Usaré este mapa para entender la predicción que haré (justo al final del notebook `03 - Usar el modelo y probar leer captchas`)\n",
    "with open(labels_filename, \"wb\") as f:\n",
    "    pickle.dump(lb, f)"
   ]
  },
  {
   "cell_type": "markdown",
   "metadata": {},
   "source": [
    "# Construir la Red Neuronal"
   ]
  },
  {
   "cell_type": "code",
   "execution_count": 9,
   "metadata": {},
   "outputs": [],
   "source": [
    "from keras.models import Sequential\n",
    "from keras.layers.convolutional import Conv2D, MaxPooling2D\n",
    "from keras.layers.core import Flatten, Dense\n",
    "\n",
    "# Instancio el modelo\n",
    "model = Sequential()"
   ]
  },
  {
   "cell_type": "code",
   "execution_count": 10,
   "metadata": {},
   "outputs": [],
   "source": [
    "# Añado una Primera Capa convolucional con max pooling\n",
    "model.add(Conv2D(20, (5, 5), padding=\"same\", input_shape=(20, 20, 1), activation=\"relu\"))\n",
    "model.add(MaxPooling2D(pool_size=(2, 2), strides=(2, 2)))"
   ]
  },
  {
   "cell_type": "code",
   "execution_count": 11,
   "metadata": {},
   "outputs": [],
   "source": [
    "# Añado una Segunda Capa convolucional con max pooling\n",
    "model.add(Conv2D(50, (5, 5), padding=\"same\", activation=\"relu\"))\n",
    "model.add(MaxPooling2D(pool_size=(2, 2), strides=(2, 2)))"
   ]
  },
  {
   "cell_type": "code",
   "execution_count": 12,
   "metadata": {},
   "outputs": [],
   "source": [
    "# Añado una capa oculta intermedia con 500 nodos\n",
    "model.add(Flatten())\n",
    "model.add(Dense(500, activation=\"relu\"))"
   ]
  },
  {
   "cell_type": "code",
   "execution_count": 13,
   "metadata": {},
   "outputs": [],
   "source": [
    "# Añado la última capa: la Capa de Salida con 36 nodos (uno por cada letra/número posible en nuestro set de datos)\n",
    "num_of_possible_characters = 36\n",
    "\n",
    "model.add(Dense(num_of_possible_characters, activation=\"softmax\"))"
   ]
  },
  {
   "cell_type": "code",
   "execution_count": 14,
   "metadata": {},
   "outputs": [],
   "source": [
    "# Construyo el modelo TensorFlow\n",
    "model.compile(loss=\"categorical_crossentropy\", optimizer=\"adam\", metrics=[\"accuracy\"])"
   ]
  },
  {
   "cell_type": "code",
   "execution_count": 15,
   "metadata": {},
   "outputs": [
    {
     "name": "stdout",
     "output_type": "stream",
     "text": [
      "Epoch 1/10\n",
      "886/886 [==============================] - 35s 40ms/step - loss: 1.5977 - accuracy: 0.5612 - val_loss: 1.1348 - val_accuracy: 0.6751\n",
      "Epoch 2/10\n",
      "886/886 [==============================] - 35s 39ms/step - loss: 1.0223 - accuracy: 0.7113 - val_loss: 1.0068 - val_accuracy: 0.7221\n",
      "Epoch 3/10\n",
      "886/886 [==============================] - 35s 39ms/step - loss: 0.8575 - accuracy: 0.7555 - val_loss: 0.9625 - val_accuracy: 0.7318\n",
      "Epoch 4/10\n",
      "886/886 [==============================] - 37s 42ms/step - loss: 0.7271 - accuracy: 0.7909 - val_loss: 0.9712 - val_accuracy: 0.7359\n",
      "Epoch 5/10\n",
      "886/886 [==============================] - 35s 39ms/step - loss: 0.6063 - accuracy: 0.8199 - val_loss: 0.9715 - val_accuracy: 0.7379\n",
      "Epoch 6/10\n",
      "886/886 [==============================] - 35s 39ms/step - loss: 0.4827 - accuracy: 0.8541 - val_loss: 1.0668 - val_accuracy: 0.7357\n",
      "Epoch 7/10\n",
      "886/886 [==============================] - 35s 40ms/step - loss: 0.3776 - accuracy: 0.8797 - val_loss: 1.1534 - val_accuracy: 0.7286\n",
      "Epoch 8/10\n",
      "886/886 [==============================] - 36s 40ms/step - loss: 0.2832 - accuracy: 0.9074 - val_loss: 1.2631 - val_accuracy: 0.7284\n",
      "Epoch 9/10\n",
      "886/886 [==============================] - 36s 40ms/step - loss: 0.2125 - accuracy: 0.9302 - val_loss: 1.4178 - val_accuracy: 0.7212\n",
      "Epoch 10/10\n",
      "886/886 [==============================] - 35s 40ms/step - loss: 0.1666 - accuracy: 0.9438 - val_loss: 1.5710 - val_accuracy: 0.7207\n"
     ]
    },
    {
     "data": {
      "text/plain": [
       "<tensorflow.python.keras.callbacks.History at 0x7f1484612100>"
      ]
     },
     "execution_count": 15,
     "metadata": {},
     "output_type": "execute_result"
    }
   ],
   "source": [
    "# Entreno la Red Neuronal. 10 epochs. 36 posibles caracteres como batch_size.\n",
    "model.fit(X_train, y_train, validation_data=(X_test, y_test), batch_size=num_of_possible_characters, epochs=10, verbose=1)"
   ]
  },
  {
   "cell_type": "code",
   "execution_count": 16,
   "metadata": {},
   "outputs": [
    {
     "name": "stdout",
     "output_type": "stream",
     "text": [
      "Modelo guardado...\n"
     ]
    }
   ],
   "source": [
    "# Guardo el modelo\n",
    "\n",
    "model_file = \"captcha_model.hdf5\"\n",
    "\n",
    "# Save the trained model to disk\n",
    "model.save(model_file)\n",
    "\n",
    "print(\"Modelo guardado...\")\n"
   ]
  }
 ],
 "metadata": {
  "kernelspec": {
   "display_name": "Python 3",
   "language": "python",
   "name": "python3"
  },
  "language_info": {
   "codemirror_mode": {
    "name": "ipython",
    "version": 3
   },
   "file_extension": ".py",
   "mimetype": "text/x-python",
   "name": "python",
   "nbconvert_exporter": "python",
   "pygments_lexer": "ipython3",
   "version": "3.8.5"
  }
 },
 "nbformat": 4,
 "nbformat_minor": 4
}
