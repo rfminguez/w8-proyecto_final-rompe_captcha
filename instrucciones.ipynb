{
 "cells": [
  {
   "cell_type": "markdown",
   "metadata": {},
   "source": [
    "# Instrucciones\n",
    "## Paso 1 Generar Captchas\n",
    "Generar un set de datos de test de 10.000 captchas desde línea de comandos.\n",
    "```\n",
    "cd src\n",
    "python3 genera_captchas_dataset.py -n 10000 -d ../input/captchas_dataset/train_data/\n",
    "\n",
    "```"
   ]
  },
  {
   "cell_type": "markdown",
   "metadata": {},
   "source": [
    "## Paso 2 Separar Letras\n",
    "Estas letras forman el set de entrenamiento del algoritmo de machine learning. Desde línea de comandos también.\n",
    "```\n",
    "cd src\n",
    "python3 extrae_letras.py -i ../input/captchas_dataset/train_data/ -o ../input/letter_dataset/training/\n",
    "```"
   ]
  },
  {
   "cell_type": "markdown",
   "metadata": {},
   "source": [
    "## Paso 3 Entrenar el Modelo \n",
    "Usando el notebook `02 - Entrenamiento.ipynb`."
   ]
  },
  {
   "cell_type": "markdown",
   "metadata": {},
   "source": [
    "## Paso 4 Usar el Modelo para extraer texto del Captcha\n",
    "Usando el notebook `03 - Leer Captchas`"
   ]
  }
 ],
 "metadata": {
  "kernelspec": {
   "display_name": "Python 3",
   "language": "python",
   "name": "python3"
  },
  "language_info": {
   "codemirror_mode": {
    "name": "ipython",
    "version": 3
   },
   "file_extension": ".py",
   "mimetype": "text/x-python",
   "name": "python",
   "nbconvert_exporter": "python",
   "pygments_lexer": "ipython3",
   "version": "3.8.5"
  }
 },
 "nbformat": 4,
 "nbformat_minor": 4
}
